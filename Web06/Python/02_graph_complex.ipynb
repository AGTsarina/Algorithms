{
  "nbformat": 4,
  "nbformat_minor": 0,
  "metadata": {
    "colab": {
      "provenance": []
    },
    "kernelspec": {
      "name": "python3",
      "display_name": "Python 3"
    },
    "language_info": {
      "name": "python"
    }
  },
  "cells": [
    {
      "cell_type": "markdown",
      "source": [
        "1. Min-cost max-flow"
      ],
      "metadata": {
        "id": "yF60NWC-y58b"
      }
    },
    {
      "cell_type": "code",
      "execution_count": null,
      "metadata": {
        "id": "3CPWM0G3qBjK"
      },
      "outputs": [],
      "source": [
        "import heapq\n",
        "INF = 10 ** 9\n",
        "\n",
        "'''struct Edge {\n",
        "    int to;     // конечная вершина ребра\n",
        "    int rev;    // индекс обратного ребра в списке смежности конечной вершины\n",
        "    int capacity;    // остаточная пропускная способность\n",
        "    int cost;   // стоимость единицы потока\n",
        "    int flow;   // текущий поток\n",
        "};'''\n",
        "\n",
        "class MinCostMaxFlow:\n",
        "    def __init__(self):\n",
        "       self.n = 0\n",
        "       self.graph = {}\n",
        "       self.negative_cost = False\n",
        "\n",
        "    def add_edge(self, u, v, capacity, cost):\n",
        "        if cost < 0:\n",
        "            self.negative_cost = True\n",
        "        edge_v = {\"to\": v, \"rev\": len(self.graph.get(v, [])), \"capacity\": capacity, \"cost\": cost, \"flow\": 0}\n",
        "        if u in self.graph:\n",
        "            self.graph[u].append(edge_v)\n",
        "        else:\n",
        "            self.graph[u] = [edge_v]\n",
        "        edge_u = {\"to\": u, \"rev\": len(self.graph.get(u, [])) - 1, \"capacity\": 0, \"cost\": -cost, \"flow\": 0}\n",
        "        if v in self.graph:\n",
        "            self.graph[v].append(edge_u)\n",
        "        else:\n",
        "            self.graph[v] = [edge_u]\n",
        "\n",
        "        self.n = max(list(self.graph.keys())) + 1\n",
        "\n",
        "\n",
        "    def bellman_ford(self, start):\n",
        "        pot = [INF] * self.n;\n",
        "        pot[start] = 0;\n",
        "        for i in range(1, self.n):\n",
        "            for u in range(self.n):\n",
        "                if (pot[u] == INF):\n",
        "                    continue\n",
        "            for edge in self.graph[u]:\n",
        "                if edge[\"capacity\"] > 0 and pot[edge[\"to\"]] > pot[u] + edge[\"cost\"]:\n",
        "                    pot[edge[\"to\"]] = pot[u] + edge[\"cost\"]\n",
        "        return pot\n",
        "\n",
        "    def dijkstra(self, start, pot, prevv, preve):\n",
        "        dist = [INF] * self.n\n",
        "        dist[start] = 0\n",
        "\n",
        "        pq = []\n",
        "        heapq.heappush(pq, (0, start))\n",
        "\n",
        "        while len(pq) > 0:\n",
        "            d, u = heapq.heappop(pq)\n",
        "            if d > dist[u]:\n",
        "                continue\n",
        "\n",
        "            for i, edge in enumerate(self.graph[u]):\n",
        "                if (edge[\"capacity\"] <= 0):\n",
        "                    continue\n",
        "                new_dist = dist[u] + edge[\"cost\"] + pot[u] - pot[edge[\"to\"]]\n",
        "                if (dist[edge[\"to\"]] > new_dist):\n",
        "                    dist[edge[\"to\"]] = new_dist\n",
        "                    prevv[edge[\"to\"]] = u\n",
        "                    preve[edge[\"to\"]] = i;\n",
        "                    heapq.heappush(pq, (new_dist, edge[\"to\"]))\n",
        "        return dist, prevv, preve\n",
        "\n",
        "\n",
        "    def solve(self, start, finish, max_flow=INF):\n",
        "        total_flow, total_cost = 0, 0\n",
        "        # Инициализация потенциалов при наличии отрицательных стоимостей\n",
        "        # Если в графе есть ребра с отрицательной стоимостью,\n",
        "        # используем алгоритм Беллмана-Форда\n",
        "        # В противном случае можно инициализировать нулями\n",
        "\n",
        "        if self.negative_cost:\n",
        "            pot = self.bellman_ford(start)\n",
        "        else:\n",
        "            pot = [0] * self.n\n",
        "\n",
        "        prevv = [0] * self.n\n",
        "        preve = [0] * self.n\n",
        "\n",
        "        while total_flow < max_flow:\n",
        "            # Поиск кратчайшего пути с помощью Дейкстры\n",
        "            dist, prevv, preve = self.dijkstra(start, pot, prevv, preve)\n",
        "\n",
        "            # сток недостижим\n",
        "            if dist[finish] == INF:\n",
        "                break\n",
        "            # Обновление потенциалов\n",
        "            for i in range(self.n):\n",
        "                if dist[i] < INF:\n",
        "                    pot[i] += dist[i]\n",
        "            # Нахождение минимального потока на пути\n",
        "            flow = max_flow - total_flow\n",
        "            v = finish\n",
        "            while v != start:\n",
        "                edge = self.graph[prevv[v]][preve[v]]\n",
        "                flow = min(flow, edge[\"capacity\"])\n",
        "                v = prevv[v]\n",
        "            # Обновление потока и стоимости\n",
        "            v = finish\n",
        "            while v != start:\n",
        "                edge = self.graph[prevv[v]][preve[v]]\n",
        "                edge[\"capacity\"] -= flow\n",
        "                self.graph[edge[\"to\"]][edge[\"rev\"]][\"capacity\"]+=flow\n",
        "                total_cost += flow * edge[\"cost\"]\n",
        "                v = prevv[v]\n",
        "\n",
        "            total_flow += flow\n",
        "        return total_flow, total_cost"
      ]
    },
    {
      "cell_type": "code",
      "source": [
        "# Создаем граф с 8 вершинами (0 - исток, 7 - сток)\n",
        "\n",
        "graph = MinCostMaxFlow();\n",
        "\n",
        "# Добавляем рёбра: from, to, capacity, cost\n",
        "graph.add_edge(0, 1, 15, 2);\n",
        "graph.add_edge(0, 2, 10, 3);\n",
        "graph.add_edge(1, 3, 10, 2);\n",
        "graph.add_edge(1, 4, 5, 4);\n",
        "graph.add_edge(2, 3, 5, 1);\n",
        "graph.add_edge(2, 5, 10, 2);\n",
        "graph.add_edge(3, 6, 10, 3);\n",
        "graph.add_edge(4, 6, 5, 2);\n",
        "graph.add_edge(4, 7, 10, 1);\n",
        "graph.add_edge(5, 7, 5, 3);\n",
        "graph.add_edge(6, 7, 15, 2);\n",
        "\n",
        "max_flow, min_cost = graph.solve(start=0, finish=7)\n",
        "\n",
        "print(f\"Максимальный поток: {max_flow}, Минимальная стоимость: {min_cost}\")\n"
      ],
      "metadata": {
        "colab": {
          "base_uri": "https://localhost:8080/"
        },
        "id": "NCsqWped0-Z9",
        "outputId": "f5833f32-78b1-4568-8b7b-70ac2b96ef58"
      },
      "execution_count": null,
      "outputs": [
        {
          "output_type": "stream",
          "name": "stdout",
          "text": [
            "Максимальный поток: 20, Минимальная стоимость: 165\n"
          ]
        }
      ]
    },
    {
      "cell_type": "markdown",
      "source": [
        "2. Задача поиска компонент связности в динамически меняемом графе\n"
      ],
      "metadata": {
        "id": "h2Rgg0NQQBJ6"
      }
    },
    {
      "cell_type": "code",
      "source": [
        "class Component:\n",
        "    def __init__(self, comp_id):\n",
        "        self.id = comp_id\n",
        "        self.nodes = set()\n",
        "        self.out_edges = set()  # компоненты, от которых есть ребро\n",
        "        self.in_edges = set()   # компоненты, к которым есть ребро\n",
        "\n",
        "    def add_node(self, node):\n",
        "        self.nodes.add(node)\n",
        "\n",
        "    def contains(self, node):\n",
        "        return node in self.nodes"
      ],
      "metadata": {
        "id": "EY_weXSIQOE_"
      },
      "execution_count": null,
      "outputs": []
    },
    {
      "cell_type": "code",
      "source": [
        "class IncrementalSCC:\n",
        "    def __init__(self, num_nodes):\n",
        "        self.n = num_nodes\n",
        "        self.next_component_id = 0\n",
        "        self.node_to_component = [None] * num_nodes\n",
        "        self.graph = [[] for _ in range(num_nodes)]\n",
        "\n",
        "        # Изначально каждая вершина - отдельная компонента\n",
        "        for i in range(num_nodes):\n",
        "            comp = Component(self.next_component_id)\n",
        "            self.next_component_id += 1\n",
        "            comp.add_node(i)\n",
        "            self.node_to_component[i] = comp\n",
        "\n",
        "    # Поиск пути между компонентами в графе конденсации\n",
        "    def has_path(self, from_comp, to_comp, visited):\n",
        "        if from_comp == to_comp:\n",
        "            return True\n",
        "        if from_comp.id in visited:\n",
        "            return False\n",
        "        visited.add(from_comp.id)\n",
        "\n",
        "        for neighbor in from_comp.out_edges:\n",
        "            if self.has_path(neighbor, to_comp, visited):\n",
        "                return True\n",
        "        return False\n",
        "\n",
        "    # Объединение компонент\n",
        "    def merge_components(self, components_to_merge):\n",
        "        new_component = Component(self.next_component_id)\n",
        "        self.next_component_id += 1\n",
        "\n",
        "        # Объединяем все вершины\n",
        "        for comp in components_to_merge:\n",
        "            for node in comp.nodes:\n",
        "                new_component.add_node(node)\n",
        "                self.node_to_component[node] = new_component\n",
        "\n",
        "        # Объединяем входящие и исходящие рёбра\n",
        "        all_in_edges = set()\n",
        "        all_out_edges = set()\n",
        "\n",
        "        for comp in components_to_merge:\n",
        "            all_in_edges.update(comp.in_edges)\n",
        "            all_out_edges.update(comp.out_edges)\n",
        "\n",
        "        # Удаляем самоссылки\n",
        "        all_in_edges.discard(new_component)\n",
        "        all_out_edges.discard(new_component)\n",
        "\n",
        "        # Обновляем рёбра\n",
        "        new_component.in_edges = all_in_edges\n",
        "        new_component.out_edges = all_out_edges\n",
        "\n",
        "        # Обновляем ссылки у соседей\n",
        "        for in_comp in new_component.in_edges:\n",
        "            in_comp.out_edges.discard(new_component)\n",
        "            in_comp.out_edges.add(new_component)\n",
        "\n",
        "        for out_comp in new_component.out_edges:\n",
        "            out_comp.in_edges.discard(new_component)\n",
        "            out_comp.in_edges.add(new_component)\n",
        "\n",
        "        return new_component\n",
        "\n",
        "    # Вспомогательная функция для поиска компонент на пути\n",
        "    def find_components_on_path(self, current, target, result, visited):\n",
        "        if current.id in visited:\n",
        "            return\n",
        "        visited.add(current.id)\n",
        "\n",
        "        result.append(current)\n",
        "\n",
        "        if current == target:\n",
        "            return\n",
        "\n",
        "        for neighbor in current.out_edges:\n",
        "            temp_visited = visited.copy()\n",
        "            if self.has_path(neighbor, target, temp_visited):\n",
        "                self.find_components_on_path(neighbor, target, result, visited)\n",
        "                return\n",
        "\n",
        "    # Добавление ребра\n",
        "    def addEdge(self, u, v):\n",
        "        self.graph[u].append(v)\n",
        "\n",
        "        comp_u = self.node_to_component[u]\n",
        "        comp_v = self.node_to_component[v]\n",
        "\n",
        "        # Если вершины в одной компоненте - просто добавляем ребро\n",
        "        if comp_u == comp_v:\n",
        "            return\n",
        "\n",
        "        # Добавляем ребро в граф конденсации\n",
        "        comp_u.out_edges.add(comp_v)\n",
        "        comp_v.in_edges.add(comp_u)\n",
        "\n",
        "        # Проверяем, создаёт ли это ребро цикл\n",
        "        visited = set()\n",
        "        if self.has_path(comp_v, comp_u, visited):\n",
        "            # Найден цикл - нужно объединить компоненты на пути\n",
        "            components_to_merge = []\n",
        "            visited2 = set()\n",
        "\n",
        "            # Находим все компоненты на пути от comp_v к comp_u\n",
        "            self.find_components_on_path(comp_v, comp_u, components_to_merge, visited2)\n",
        "\n",
        "            # Объединяем компоненты\n",
        "            new_component = self.merge_components(components_to_merge)\n",
        "\n",
        "    # Получение компоненты для вершины\n",
        "    def getComponent(self, node):\n",
        "        return self.node_to_component[node].id\n",
        "\n",
        "    # Вывод всех компонент\n",
        "    def printComponents(self):\n",
        "        printed = set()\n",
        "        print(\"Компоненты сильной связности:\")\n",
        "\n",
        "        for i in range(self.n):\n",
        "            comp = self.node_to_component[i]\n",
        "            if comp not in printed:\n",
        "                printed.add(comp)\n",
        "                print(f\"Компонента {comp.id}:\", end=\" \")\n",
        "                for node in comp.nodes:\n",
        "                    print(node, end=\" \")\n",
        "                print()\n",
        "\n",
        "    # Вывод графа конденсации\n",
        "    def printCondensationGraph(self):\n",
        "        printed = set()\n",
        "        print(\"Граф конденсации:\")\n",
        "\n",
        "        for i in range(self.n):\n",
        "            comp = self.node_to_component[i]\n",
        "            if comp not in printed:\n",
        "                printed.add(comp)\n",
        "                print(f\"Компонента {comp.id} ->\", end=\" \")\n",
        "                for out_comp in comp.out_edges:\n",
        "                    if out_comp != comp:\n",
        "                        print(out_comp.id, end=\" \")\n",
        "                print()"
      ],
      "metadata": {
        "id": "Ylq3zkrLQjg3"
      },
      "execution_count": null,
      "outputs": []
    },
    {
      "cell_type": "markdown",
      "source": [
        "Исходное состояние (все вершины не связаны)"
      ],
      "metadata": {
        "id": "b5D2JSQaSFBq"
      }
    },
    {
      "cell_type": "code",
      "source": [
        "scc = IncrementalSCC(num_nodes=4)\n",
        "scc.printComponents()\n",
        "scc.printCondensationGraph()"
      ],
      "metadata": {
        "colab": {
          "base_uri": "https://localhost:8080/"
        },
        "id": "HaD4oUf2Ru5Y",
        "outputId": "dccd9b6b-936e-4446-a942-b8e5051838ca"
      },
      "execution_count": null,
      "outputs": [
        {
          "output_type": "stream",
          "name": "stdout",
          "text": [
            "Компоненты сильной связности:\n",
            "Компонента 0: 0 \n",
            "Компонента 1: 1 \n",
            "Компонента 2: 2 \n",
            "Компонента 3: 3 \n",
            "Граф конденсации:\n",
            "Компонента 0 -> \n",
            "Компонента 1 -> \n",
            "Компонента 2 -> \n",
            "Компонента 3 -> \n"
          ]
        }
      ]
    },
    {
      "cell_type": "markdown",
      "source": [
        "Добавляем ребро 0 -> 1"
      ],
      "metadata": {
        "id": "D0P_T7W-SGZq"
      }
    },
    {
      "cell_type": "code",
      "source": [
        "scc.addEdge(0, 1)\n",
        "scc.printComponents()\n",
        "scc.printCondensationGraph()"
      ],
      "metadata": {
        "colab": {
          "base_uri": "https://localhost:8080/"
        },
        "id": "CsGx67c3Rtgt",
        "outputId": "b8f88551-6ce5-475b-a03e-27a6c8bbedde"
      },
      "execution_count": null,
      "outputs": [
        {
          "output_type": "stream",
          "name": "stdout",
          "text": [
            "Компоненты сильной связности:\n",
            "Компонента 0: 0 \n",
            "Компонента 1: 1 \n",
            "Компонента 2: 2 \n",
            "Компонента 3: 3 \n",
            "Граф конденсации:\n",
            "Компонента 0 -> 1 \n",
            "Компонента 1 -> \n",
            "Компонента 2 -> \n",
            "Компонента 3 -> \n"
          ]
        }
      ]
    },
    {
      "cell_type": "markdown",
      "source": [
        "Добавляем ребро 1 -> 2"
      ],
      "metadata": {
        "id": "ymIQpXjhSXi4"
      }
    },
    {
      "cell_type": "code",
      "source": [
        "scc.addEdge(1, 2)\n",
        "scc.printComponents()\n",
        "scc.printCondensationGraph()"
      ],
      "metadata": {
        "colab": {
          "base_uri": "https://localhost:8080/"
        },
        "id": "w5Ksb7fQSVqy",
        "outputId": "68c448d0-8a37-4161-e048-43baad23a88e"
      },
      "execution_count": null,
      "outputs": [
        {
          "output_type": "stream",
          "name": "stdout",
          "text": [
            "Компоненты сильной связности:\n",
            "Компонента 0: 0 \n",
            "Компонента 1: 1 \n",
            "Компонента 2: 2 \n",
            "Компонента 3: 3 \n",
            "Граф конденсации:\n",
            "Компонента 0 -> 1 \n",
            "Компонента 1 -> 2 \n",
            "Компонента 2 -> \n",
            "Компонента 3 -> \n"
          ]
        }
      ]
    },
    {
      "cell_type": "code",
      "source": [
        "scc.addEdge(2, 0)\n",
        "scc.printComponents()\n",
        "scc.printCondensationGraph()"
      ],
      "metadata": {
        "colab": {
          "base_uri": "https://localhost:8080/"
        },
        "id": "5vhq5K4STAqM",
        "outputId": "895da336-6443-48bd-e985-761c243e224f"
      },
      "execution_count": null,
      "outputs": [
        {
          "output_type": "stream",
          "name": "stdout",
          "text": [
            "Компоненты сильной связности:\n",
            "Компонента 4: 0 1 2 \n",
            "Компонента 3: 3 \n",
            "Граф конденсации:\n",
            "Компонента 4 -> 1 2 0 \n",
            "Компонента 3 -> \n"
          ]
        }
      ]
    },
    {
      "cell_type": "code",
      "source": [
        "scc.addEdge(1, 3)\n",
        "scc.printComponents()\n",
        "scc.printCondensationGraph()"
      ],
      "metadata": {
        "colab": {
          "base_uri": "https://localhost:8080/"
        },
        "id": "OSlWo6E4TKAb",
        "outputId": "02cda1b6-ee6a-4d6c-cffa-aca52a374bf1"
      },
      "execution_count": null,
      "outputs": [
        {
          "output_type": "stream",
          "name": "stdout",
          "text": [
            "Компоненты сильной связности:\n",
            "Компонента 4: 0 1 2 \n",
            "Компонента 3: 3 \n",
            "Граф конденсации:\n",
            "Компонента 4 -> 3 1 2 0 \n",
            "Компонента 3 -> \n"
          ]
        }
      ]
    },
    {
      "cell_type": "code",
      "source": [
        "scc.addEdge(3, 2)\n",
        "scc.printComponents()\n",
        "scc.printCondensationGraph()"
      ],
      "metadata": {
        "colab": {
          "base_uri": "https://localhost:8080/"
        },
        "id": "QFTtrS6-TTiD",
        "outputId": "b0ad85ec-d339-4f90-d58d-c4c45d64f88d"
      },
      "execution_count": null,
      "outputs": [
        {
          "output_type": "stream",
          "name": "stdout",
          "text": [
            "Компоненты сильной связности:\n",
            "Компонента 5: 0 1 2 3 \n",
            "Граф конденсации:\n",
            "Компонента 5 -> 4 3 1 2 0 \n"
          ]
        }
      ]
    }
  ]
}