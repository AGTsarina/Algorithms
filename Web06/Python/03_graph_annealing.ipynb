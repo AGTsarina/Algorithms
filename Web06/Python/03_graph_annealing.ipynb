{
  "nbformat": 4,
  "nbformat_minor": 0,
  "metadata": {
    "colab": {
      "provenance": []
    },
    "kernelspec": {
      "name": "python3",
      "display_name": "Python 3"
    },
    "language_info": {
      "name": "python"
    }
  },
  "cells": [
    {
      "cell_type": "markdown",
      "source": [
        "### Метод отжига для задачи коммивояжера"
      ],
      "metadata": {
        "id": "rXEDDe-rVhJ3"
      }
    },
    {
      "cell_type": "code",
      "execution_count": null,
      "metadata": {
        "id": "3vsWOVLBVghE"
      },
      "outputs": [],
      "source": [
        "import numpy as np\n",
        "import random\n",
        "import time\n",
        "import itertools\n",
        "from typing import List, Tuple\n",
        "import math"
      ]
    },
    {
      "cell_type": "markdown",
      "source": [
        "Генерация случайного графа"
      ],
      "metadata": {
        "id": "GaClXNppW1qP"
      }
    },
    {
      "cell_type": "code",
      "source": [
        "def generate_random_graph(size: int, min_weight: float, max_weight: float) -> np.ndarray:\n",
        "    graph = np.zeros((size, size))\n",
        "    for i in range(size):\n",
        "        for j in range(i + 1, size):\n",
        "            weight = random.uniform(min_weight, max_weight)\n",
        "            graph[i][j] = weight\n",
        "            graph[j][i] = weight\n",
        "\n",
        "    return graph"
      ],
      "metadata": {
        "id": "Fo4jQWt0Wzqv"
      },
      "execution_count": null,
      "outputs": []
    },
    {
      "cell_type": "markdown",
      "source": [
        "Вычисление стоимости пути в графе"
      ],
      "metadata": {
        "id": "CPkSAg0WVs8F"
      }
    },
    {
      "cell_type": "code",
      "source": [
        "def path_cost(path: List[int], graph: np.ndarray) -> float:\n",
        "    cost = 0.0\n",
        "    n = len(path)\n",
        "    for i in range(n - 1):\n",
        "        cost += graph[path[i]][path[i+1]]\n",
        "    cost += graph[path[-1]][path[0]]  # Замкнуть цикл\n",
        "    return cost"
      ],
      "metadata": {
        "id": "LIR3EjT1VpCY"
      },
      "execution_count": null,
      "outputs": []
    },
    {
      "cell_type": "markdown",
      "source": [
        "Генерация соседнего решения, зависящая от температуры"
      ],
      "metadata": {
        "id": "0x8ZurOZV6Tx"
      }
    },
    {
      "cell_type": "code",
      "source": [
        "def generate_neighbor(current: List[int], temperature: float, initial_temp: float) -> List[int]:\n",
        "    neighbor = current.copy()\n",
        "    n = len(neighbor)\n",
        "\n",
        "    # Нормализованная температура (0-1)\n",
        "    normalized_temp = temperature / initial_temp\n",
        "\n",
        "    # Чем выше температура, тем более радикальные изменения\n",
        "    if normalized_temp > 0.5:\n",
        "        # Высокая температура - большие изменения (перестановка двух случайных вершин)\n",
        "        i, j = random.sample(range(n), 2)\n",
        "        neighbor[i], neighbor[j] = neighbor[j], neighbor[i]\n",
        "    elif normalized_temp > 0.2:\n",
        "        # Средняя температура - средние изменения (переворот подпоследовательности)\n",
        "        i, j = sorted(random.sample(range(n), 2))\n",
        "        neighbor[i:j+1] = reversed(neighbor[i:j+1])\n",
        "    else:\n",
        "        # Низкая температура - маленькие изменения (перестановка соседних вершин)\n",
        "        i = random.randint(0, n - 2)\n",
        "        neighbor[i], neighbor[i+1] = neighbor[i+1], neighbor[i]\n",
        "\n",
        "    return neighbor"
      ],
      "metadata": {
        "id": "Kw2zBpcyV20I"
      },
      "execution_count": null,
      "outputs": []
    },
    {
      "cell_type": "markdown",
      "source": [
        "Моделирование отжига"
      ],
      "metadata": {
        "id": "kPZJ0qSaWKI9"
      }
    },
    {
      "cell_type": "code",
      "source": [
        "def simulated_annealing(\n",
        "    graph: np.ndarray,\n",
        "    initial_temp: float,\n",
        "    cooling_rate: float,\n",
        "    min_temp: float,\n",
        "    max_iterations: int) -> List[int]:\n",
        "\n",
        "    n = graph.shape[0]\n",
        "    current_path = list(range(n))\n",
        "    random.shuffle(current_path)\n",
        "\n",
        "    best_path = current_path.copy()\n",
        "    current_cost = path_cost(current_path, graph)\n",
        "    best_cost = current_cost\n",
        "\n",
        "    temp = initial_temp\n",
        "    iteration = 0\n",
        "\n",
        "    while temp > min_temp and iteration < max_iterations:\n",
        "        # print(\"Temp:\", temp, iteration)\n",
        "        neighbor = generate_neighbor(current_path, temp, initial_temp)\n",
        "        neighbor_cost = path_cost(neighbor, graph)\n",
        "        delta = neighbor_cost - current_cost\n",
        "\n",
        "        if delta < 0 or math.exp(-delta / temp) > random.random():\n",
        "            current_path = neighbor\n",
        "            current_cost = neighbor_cost\n",
        "\n",
        "            if current_cost < best_cost:\n",
        "                best_path = current_path.copy()\n",
        "                best_cost = current_cost\n",
        "                print(f\"Новое лучшее решение: {best_cost:.2f} (температура: {temp:.2f})\")\n",
        "\n",
        "        temp *= cooling_rate\n",
        "        iteration += 1\n",
        "\n",
        "    return best_path"
      ],
      "metadata": {
        "id": "slTrjQ-QWEtf"
      },
      "execution_count": null,
      "outputs": []
    },
    {
      "cell_type": "markdown",
      "source": [
        "Точное решение методом полного перебора (только для небольших графов)"
      ],
      "metadata": {
        "id": "dXcIZe9pWilT"
      }
    },
    {
      "cell_type": "code",
      "source": [
        "def brute_force(graph: np.ndarray) -> List[int]:\n",
        "    n = graph.shape[0]\n",
        "    best_path = list(range(n))\n",
        "    best_cost = path_cost(best_path, graph)\n",
        "\n",
        "    # Перебираем все перестановки\n",
        "    for perm in itertools.permutations(range(1, n)):\n",
        "        path = [0] + list(perm)\n",
        "        cost = path_cost(path, graph)\n",
        "        if cost < best_cost:\n",
        "            best_cost = cost\n",
        "            best_path = path\n",
        "\n",
        "    return best_path"
      ],
      "metadata": {
        "id": "Gv-zM78sWgdW"
      },
      "execution_count": null,
      "outputs": []
    },
    {
      "cell_type": "markdown",
      "source": [
        "Запуск моделирования с заданным коэффициентом охлаждения"
      ],
      "metadata": {
        "id": "2MtEv9wQXcyV"
      }
    },
    {
      "cell_type": "code",
      "source": [
        "def simulation(graph: np.ndarray, cooling_rate: float, exact_cost: float, compare_exact: bool):\n",
        "    # Параметры алгоритма\n",
        "    initial_temp = 10000\n",
        "    min_temp = 1e-5\n",
        "    max_iterations = 100000\n",
        "    graph_size = graph.shape[0]\n",
        "\n",
        "    print(f\"Запуск имитации отжига для графа из {graph_size} вершин при коэффициенте охлаждения {cooling_rate}\")\n",
        "    start = time.time()\n",
        "\n",
        "    result = simulated_annealing(graph, initial_temp, cooling_rate, min_temp, max_iterations)\n",
        "    result_cost = path_cost(result, graph)\n",
        "\n",
        "    end = time.time()\n",
        "    duration = end - start\n",
        "\n",
        "    print(\"\\nРезультат имитации отжига:\")\n",
        "    print(\"Лучший путь:\", result)\n",
        "    print(f\"Стоимость: {result_cost:.2f}\")\n",
        "    print(f\"Время выполнения: {duration:.2f} секунд\")\n",
        "\n",
        "    if compare_exact:\n",
        "        deviation = ((result_cost - exact_cost) / exact_cost * 100)\n",
        "        print(f\"Отклонение от оптимального решения: {deviation:.2f}%\")\n",
        "\n",
        "        if abs(result_cost - exact_cost) < 1e-6:\n",
        "            print(\"Алгоритм нашел оптимальное решение!\")\n",
        "        else:\n",
        "            print(\"Алгоритм нашел приближенное решение.\")\n",
        "    print(\"\\n\\n\")"
      ],
      "metadata": {
        "id": "UkspEjqMXaCc"
      },
      "execution_count": null,
      "outputs": []
    },
    {
      "cell_type": "markdown",
      "source": [
        "Сценарий тестирования"
      ],
      "metadata": {
        "id": "mtOu-8ZlXqnu"
      }
    },
    {
      "cell_type": "code",
      "source": [
        "# Генерация графа с 10 вершинами\n",
        "graph_size = 10\n",
        "graph = generate_random_graph(graph_size, 1.0, 50.0)\n",
        "\n",
        "# Точное решение для сравнения (только для небольших графов)\n",
        "exact_cost = 0\n",
        "if graph_size < 11:\n",
        "  exact_cost = path_cost(brute_force(graph), graph)\n",
        "\n",
        "# Запуск симуляций с разными коэффициентами охлаждения\n",
        "simulation(graph, 0.99, exact_cost, graph_size < 11)\n",
        "simulation(graph, 0.995, exact_cost, graph_size < 11)\n",
        "simulation(graph, 0.999, exact_cost, graph_size < 11)\n",
        "simulation(graph, 0.9995, exact_cost, graph_size < 11)\n",
        "simulation(graph, 0.99999, exact_cost, graph_size < 11)"
      ],
      "metadata": {
        "colab": {
          "base_uri": "https://localhost:8080/"
        },
        "id": "NJzBMiQBXoXC",
        "outputId": "8ffe3a1c-cf09-4686-c315-b892bcb1fa9b"
      },
      "execution_count": null,
      "outputs": [
        {
          "output_type": "stream",
          "name": "stdout",
          "text": [
            "Запуск имитации отжига для графа из 10 вершин при коэффициенте охлаждения 0.99\n",
            "Новое лучшее решение: 219.79 (температура: 10000.00)\n",
            "Новое лучшее решение: 214.92 (температура: 9227.45)\n",
            "Новое лучшее решение: 209.32 (температура: 6689.72)\n",
            "Новое лучшее решение: 175.46 (температура: 5989.56)\n",
            "Новое лучшее решение: 170.40 (температура: 55.39)\n",
            "Новое лучшее решение: 159.77 (температура: 37.80)\n",
            "Новое лучшее решение: 157.26 (температура: 13.29)\n",
            "\n",
            "Результат имитации отжига:\n",
            "Лучший путь: [1, 4, 0, 2, 8, 6, 5, 3, 7, 9]\n",
            "Стоимость: 157.26\n",
            "Время выполнения: 0.01 секунд\n",
            "Отклонение от оптимального решения: 21.86%\n",
            "Алгоритм нашел приближенное решение.\n",
            "\n",
            "\n",
            "\n",
            "Запуск имитации отжига для графа из 10 вершин при коэффициенте охлаждения 0.995\n",
            "Новое лучшее решение: 167.25 (температура: 6305.56)\n",
            "Новое лучшее решение: 158.02 (температура: 5562.89)\n",
            "Новое лучшее решение: 155.04 (температура: 5398.08)\n",
            "Новое лучшее решение: 152.97 (температура: 19.20)\n",
            "Новое лучшее решение: 142.88 (температура: 5.71)\n",
            "\n",
            "Результат имитации отжига:\n",
            "Лучший путь: [7, 9, 0, 8, 2, 3, 5, 1, 4, 6]\n",
            "Стоимость: 142.88\n",
            "Время выполнения: 0.02 секунд\n",
            "Отклонение от оптимального решения: 10.71%\n",
            "Алгоритм нашел приближенное решение.\n",
            "\n",
            "\n",
            "\n",
            "Запуск имитации отжига для графа из 10 вершин при коэффициенте охлаждения 0.999\n",
            "Новое лучшее решение: 220.07 (температура: 9890.55)\n",
            "Новое лучшее решение: 198.65 (температура: 9880.66)\n",
            "Новое лучшее решение: 146.17 (температура: 9870.78)\n",
            "Новое лучшее решение: 140.86 (температура: 1102.39)\n",
            "Новое лучшее решение: 134.60 (температура: 40.71)\n",
            "Новое лучшее решение: 134.45 (температура: 13.41)\n",
            "\n",
            "Результат имитации отжига:\n",
            "Лучший путь: [1, 5, 3, 7, 6, 4, 8, 2, 0, 9]\n",
            "Стоимость: 134.45\n",
            "Время выполнения: 0.11 секунд\n",
            "Отклонение от оптимального решения: 4.18%\n",
            "Алгоритм нашел приближенное решение.\n",
            "\n",
            "\n",
            "\n",
            "Запуск имитации отжига для графа из 10 вершин при коэффициенте охлаждения 0.9995\n",
            "Новое лучшее решение: 244.52 (температура: 9995.00)\n",
            "Новое лучшее решение: 238.28 (температура: 9990.00)\n",
            "Новое лучшее решение: 230.67 (температура: 9955.09)\n",
            "Новое лучшее решение: 215.48 (температура: 9950.11)\n",
            "Новое лучшее решение: 153.78 (температура: 9940.16)\n",
            "Новое лучшее решение: 152.98 (температура: 2162.36)\n",
            "Новое лучшее решение: 151.57 (температура: 358.89)\n",
            "Новое лучшее решение: 148.75 (температура: 202.83)\n",
            "Новое лучшее решение: 148.62 (температура: 91.48)\n",
            "Новое лучшее решение: 148.59 (температура: 55.20)\n",
            "Новое лучшее решение: 146.43 (температура: 31.18)\n",
            "Новое лучшее решение: 129.05 (температура: 21.38)\n",
            "\n",
            "Результат имитации отжига:\n",
            "Лучший путь: [4, 0, 9, 1, 5, 6, 7, 3, 2, 8]\n",
            "Стоимость: 129.05\n",
            "Время выполнения: 0.22 секунд\n",
            "Отклонение от оптимального решения: 0.00%\n",
            "Алгоритм нашел оптимальное решение!\n",
            "\n",
            "\n",
            "\n",
            "Запуск имитации отжига для графа из 10 вершин при коэффициенте охлаждения 0.99999\n",
            "Новое лучшее решение: 200.86 (температура: 9999.60)\n",
            "Новое лучшее решение: 196.65 (температура: 9997.50)\n",
            "Новое лучшее решение: 175.22 (температура: 9997.30)\n",
            "Новое лучшее решение: 154.33 (температура: 9986.71)\n",
            "Новое лучшее решение: 152.08 (температура: 9701.45)\n",
            "Новое лучшее решение: 133.70 (температура: 9630.59)\n",
            "Новое лучшее решение: 132.23 (температура: 8370.09)\n",
            "Новое лучшее решение: 129.05 (температура: 3916.08)\n",
            "\n",
            "Результат имитации отжига:\n",
            "Лучший путь: [6, 7, 3, 2, 8, 4, 0, 9, 1, 5]\n",
            "Стоимость: 129.05\n",
            "Время выполнения: 0.70 секунд\n",
            "Отклонение от оптимального решения: 0.00%\n",
            "Алгоритм нашел оптимальное решение!\n",
            "\n",
            "\n",
            "\n"
          ]
        }
      ]
    }
  ]
}